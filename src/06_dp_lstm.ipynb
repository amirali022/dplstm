{
  "cells": [
    {
      "cell_type": "markdown",
      "metadata": {
        "id": "ZIybs_vVcB2W"
      },
      "source": [
        "##### import statements"
      ]
    },
    {
      "cell_type": "code",
      "execution_count": 2,
      "metadata": {
        "id": "pilkkmSRcDoI"
      },
      "outputs": [],
      "source": [
        "import pandas as pd\n",
        "import numpy as np\n",
        "import matplotlib.pyplot as plt\n",
        "import tensorflow as tf\n",
        "from datetime import datetime"
      ]
    },
    {
      "cell_type": "markdown",
      "metadata": {
        "id": "iSyaK7TycGSu"
      },
      "source": [
        "##### read input csv"
      ]
    },
    {
      "cell_type": "code",
      "execution_count": 3,
      "metadata": {
        "id": "rzHH6JIDcHsa"
      },
      "outputs": [],
      "source": [
        "df = pd.read_csv( \"data/result/source_price.csv\").drop( \"Unnamed: 0\", axis=1)"
      ]
    },
    {
      "cell_type": "markdown",
      "metadata": {
        "id": "hSgCuQeccJp6"
      },
      "source": [
        "##### Differential Privacy (Add Noise)"
      ]
    },
    {
      "cell_type": "code",
      "execution_count": 4,
      "metadata": {
        "id": "PQhdaWkQhFeK"
      },
      "outputs": [],
      "source": [
        "wsj_var = np.var( df[ \"wsj_mean_compound\"])\n",
        "cnbc_var = np.var( df[ \"cnbc_mean_compound\"])\n",
        "fortune_var = np.var( df[ \"fortune_mean_compound\"])\n",
        "reuters_var = np.var( df[ \"reuters_mean_compound\"])\n",
        "\n",
        "MU = 0\n",
        "NOISE = 0.1\n",
        "\n",
        "sigma_wsj = NOISE * wsj_var\n",
        "sigma_cnbc = NOISE * cnbc_var\n",
        "sigma_fortune = NOISE * fortune_var\n",
        "sigma_reuters = NOISE * reuters_var\n",
        "\n",
        "wsj_noise = []\n",
        "cnbc_noise = []\n",
        "fortune_noise = []\n",
        "reuters_noise = []\n",
        "\n",
        "for i in range( len( df)):\n",
        "    wsj_noise.append( df[ \"wsj_mean_compound\"][ i] + np.random.normal( MU, sigma_wsj))\n",
        "    cnbc_noise.append( df[ \"cnbc_mean_compound\"][ i] + np.random.normal( MU, sigma_cnbc))\n",
        "    fortune_noise.append( df[ \"fortune_mean_compound\"][ i] + np.random.normal( MU, sigma_fortune))\n",
        "    reuters_noise.append( df[ \"reuters_mean_compound\"][ i] + np.random.normal( MU, sigma_reuters))\n",
        "\n",
        "df[ \"wsj_noise\"] = wsj_noise\n",
        "df[ \"cnbc_noise\"] = cnbc_noise\n",
        "df[ \"fortune_noise\"] = fortune_noise\n",
        "df[ \"reuters_noise\"] = reuters_noise\n",
        "\n",
        "df1 = pd.DataFrame()\n",
        "df1[ \"price\"] = df[ \"Adj Close\"]\n",
        "df1[ \"wsj\"] = df[ \"wsj_noise\"]\n",
        "df1[ \"cnbc\"] = df[ \"cnbc_mean_compound\"]\n",
        "df1[ \"fortune\"] = df[ \"fortune_mean_compound\"]\n",
        "df1[ \"reuters\"] = df[ \"reuters_mean_compound\"]\n",
        "\n",
        "df2 = pd.DataFrame()\n",
        "df2[ \"price\"] = df[ \"Adj Close\"]\n",
        "df2[ \"wsj\"] = df[ \"wsj_mean_compound\"]\n",
        "df2[ \"cnbc\"] = df[ \"cnbc_noise\"]\n",
        "df2[ \"fortune\"] = df[ \"fortune_mean_compound\"]\n",
        "df2[ \"reuters\"] = df[ \"reuters_mean_compound\"]\n",
        "\n",
        "df3 = pd.DataFrame()\n",
        "df3[ \"price\"] = df[ \"Adj Close\"]\n",
        "df3[ \"wsj\"] = df[ \"wsj_mean_compound\"]\n",
        "df3[ \"cnbc\"] = df[ \"cnbc_mean_compound\"]\n",
        "df3[ \"fortune\"] = df[ \"fortune_noise\"]\n",
        "df3[ \"reuters\"] = df[ \"reuters_mean_compound\"]\n",
        "\n",
        "df4 = pd.DataFrame()\n",
        "df4[ \"price\"] = df[ \"Adj Close\"]\n",
        "df4[ \"wsj\"] = df[ \"wsj_mean_compound\"]\n",
        "df4[ \"cnbc\"] = df[ \"cnbc_mean_compound\"]\n",
        "df4[ \"fortune\"] = df[ \"fortune_mean_compound\"]\n",
        "df4[ \"reuters\"] = df[ \"reuters_noise\"]"
      ]
    },
    {
      "cell_type": "markdown",
      "metadata": {
        "id": "25nB0sgJjEsQ"
      },
      "source": [
        "##### static variables"
      ]
    },
    {
      "cell_type": "code",
      "execution_count": 5,
      "metadata": {
        "id": "7P9wHKJEixXw"
      },
      "outputs": [],
      "source": [
        "SPLIT = 0.85\n",
        "SEQUENCE_LENGTH = 10\n",
        "BATCH_SIZE = 100\n",
        "INPUT_DIM = 5\n",
        "INPUT_TIMESTEPS = 9\n",
        "NEURONS = 50\n",
        "EPOCHS = 5\n",
        "PREDICTION_LENGTH = 1\n",
        "DENSE_OUTPUT = 1\n",
        "DROPOUT = 0.2"
      ]
    },
    {
      "cell_type": "markdown",
      "metadata": {
        "id": "7JU53AyzjK7D"
      },
      "source": [
        "##### create window data"
      ]
    },
    {
      "cell_type": "code",
      "execution_count": 6,
      "metadata": {
        "id": "S69XgAWkjIwq"
      },
      "outputs": [],
      "source": [
        "def create_win_data( data, sequence_length):\n",
        "    len_data = len( data)\n",
        "\n",
        "    data_windows = []\n",
        "    for i in range( len_data - sequence_length):\n",
        "        data_windows.append( data[ i:i + sequence_length])\n",
        "\n",
        "    return np.array( data_windows).astype( float)"
      ]
    },
    {
      "cell_type": "markdown",
      "metadata": {
        "id": "SxPd3WFjjOGu"
      },
      "source": [
        "##### normalize data"
      ]
    },
    {
      "cell_type": "code",
      "execution_count": 7,
      "metadata": {
        "id": "IeETNChhjQro"
      },
      "outputs": [],
      "source": [
        "def normalize( data_windows):\n",
        "    normalized_data = []\n",
        "    record_min = []\n",
        "    record_max = []\n",
        "\n",
        "    for i in range( len( data_windows)):\n",
        "        t = data_windows[ i, :, 0]\n",
        "\n",
        "        minimum = t.min()\n",
        "        record_min.append( minimum)\n",
        "\n",
        "        maximum = t.max()\n",
        "        record_max.append( maximum)\n",
        "\n",
        "        diff = maximum - minimum\n",
        "\n",
        "        t = t - minimum\n",
        "        t = t / diff\n",
        "\n",
        "        data_windows[ i, :, 0] = t\n",
        "\n",
        "        normalized_data.append( data_windows[ i])\n",
        "\n",
        "    record_min = np.array( record_min)\n",
        "    record_max = np.array( record_max)\n",
        "    normalized_data = np.array( normalized_data)\n",
        "\n",
        "    return normalized_data, record_min, record_max\n"
      ]
    },
    {
      "cell_type": "markdown",
      "metadata": {
        "id": "WjM8s6LXjU58"
      },
      "source": [
        "##### features and labels"
      ]
    },
    {
      "cell_type": "code",
      "execution_count": 8,
      "metadata": {
        "id": "5tYiO6Y6jWpu"
      },
      "outputs": [],
      "source": [
        "def input_label( data):\n",
        "    x = data[ :, :-1]\n",
        "    y = data[ :, -1, [ 0]]\n",
        "\n",
        "    return x, y"
      ]
    },
    {
      "cell_type": "markdown",
      "metadata": {
        "id": "-EQySbasl67W"
      },
      "source": [
        "##### train & test split info"
      ]
    },
    {
      "cell_type": "code",
      "execution_count": 9,
      "metadata": {
        "id": "qdEIv7ftl-NO"
      },
      "outputs": [],
      "source": [
        "i_split = int( len( df) * SPLIT)"
      ]
    },
    {
      "cell_type": "markdown",
      "metadata": {
        "id": "HBCIaz-Pja9F"
      },
      "source": [
        "##### prepare train data"
      ]
    },
    {
      "cell_type": "code",
      "execution_count": 10,
      "metadata": {
        "colab": {
          "base_uri": "https://localhost:8080/"
        },
        "id": "3qtyDmiFjcYM",
        "outputId": "d3e67298-5dce-4e6b-fb5d-ace91f8d35fb"
      },
      "outputs": [
        {
          "name": "stdout",
          "output_type": "stream",
          "text": [
            "x_train Shape: (368, 9, 5), y_train Shape: (368, 1)\n"
          ]
        }
      ],
      "source": [
        "cols = [ \"price\", \"wsj\", \"cnbc\", \"fortune\", \"reuters\"]\n",
        "\n",
        "data_train1 = df1[ cols].values[ :i_split]\n",
        "data_train2 = df2[ cols].values[ :i_split]\n",
        "data_train3 = df3[ cols].values[ :i_split]\n",
        "data_train4 = df4[ cols].values[ :i_split]\n",
        "\n",
        "train_data1_windows = create_win_data( data_train1, SEQUENCE_LENGTH)\n",
        "normalized_train_data1, record_min_train1, record_max_train1 = normalize( train_data1_windows)\n",
        "x_train1, y_train1 = input_label( normalized_train_data1)\n",
        "\n",
        "train_data2_windows = create_win_data( data_train2, SEQUENCE_LENGTH)\n",
        "normalized_train_data2, record_min_train2, record_max_train2 = normalize( train_data2_windows)\n",
        "x_train2, y_train2 = input_label( normalized_train_data2)\n",
        "\n",
        "train_data3_windows = create_win_data( data_train3, SEQUENCE_LENGTH)\n",
        "normalized_train_data3, record_min_train3, record_max_train3 = normalize( train_data3_windows)\n",
        "x_train3, y_train3 = input_label( normalized_train_data3)\n",
        "\n",
        "train_data4_windows = create_win_data( data_train4, SEQUENCE_LENGTH)\n",
        "normalized_train_data4, record_min_train4, record_max_train4 = normalize( train_data4_windows)\n",
        "x_train4, y_train4 = input_label( normalized_train_data4)\n",
        "\n",
        "x_train = np.concatenate( ( x_train1, x_train2, x_train3, x_train4), axis=0)\n",
        "y_train = np.concatenate( ( y_train1, y_train2, y_train3, y_train4), axis=0)\n",
        "\n",
        "print( f\"x_train Shape: { x_train.shape}, y_train Shape: { y_train.shape}\")"
      ]
    },
    {
      "cell_type": "markdown",
      "metadata": {
        "id": "fAh4xSuUmt2Q"
      },
      "source": [
        "##### prepare test data"
      ]
    },
    {
      "cell_type": "code",
      "execution_count": 11,
      "metadata": {
        "colab": {
          "base_uri": "https://localhost:8080/"
        },
        "id": "c0FSIrWmmEA0",
        "outputId": "2b191bcc-f217-47c2-ea00-77bb76dc9343"
      },
      "outputs": [
        {
          "name": "stdout",
          "output_type": "stream",
          "text": [
            "x_test Shape: (9, 9, 5), y_train Shape: (9, 1)\n"
          ]
        }
      ],
      "source": [
        "data_test = df[ [ \"Adj Close\", \"wsj_mean_compound\", \"cnbc_mean_compound\", \"fortune_mean_compound\", \"reuters_mean_compound\"]].values[ i_split:]\n",
        "\n",
        "test_data_windows = create_win_data( data_test, SEQUENCE_LENGTH)\n",
        "normalized_test_data, record_min_test, record_max_test = normalize( test_data_windows)\n",
        "x_test, y_test = input_label( normalized_test_data)\n",
        "\n",
        "print( f\"x_test Shape: { x_test.shape}, y_train Shape: { y_test.shape}\")"
      ]
    },
    {
      "cell_type": "markdown",
      "metadata": {
        "id": "ltOvViIYm_fd"
      },
      "source": [
        "##### create model"
      ]
    },
    {
      "cell_type": "code",
      "execution_count": 12,
      "metadata": {
        "colab": {
          "base_uri": "https://localhost:8080/"
        },
        "id": "QKRQJOHUnBZ6",
        "outputId": "178cd2e5-4953-48ef-d21a-4ab0b492ed8e"
      },
      "outputs": [
        {
          "name": "stdout",
          "output_type": "stream",
          "text": [
            "Model: \"sequential\"\n",
            "_________________________________________________________________\n",
            " Layer (type)                Output Shape              Param #   \n",
            "=================================================================\n",
            " lstm (LSTM)                 (None, 9, 50)             11200     \n",
            "                                                                 \n",
            " dropout (Dropout)           (None, 9, 50)             0         \n",
            "                                                                 \n",
            " lstm_1 (LSTM)               (None, 9, 50)             20200     \n",
            "                                                                 \n",
            " lstm_2 (LSTM)               (None, 50)                20200     \n",
            "                                                                 \n",
            " dropout_1 (Dropout)         (None, 50)                0         \n",
            "                                                                 \n",
            " dense (Dense)               (None, 1)                 51        \n",
            "                                                                 \n",
            "=================================================================\n",
            "Total params: 51651 (201.76 KB)\n",
            "Trainable params: 51651 (201.76 KB)\n",
            "Non-trainable params: 0 (0.00 Byte)\n",
            "_________________________________________________________________\n"
          ]
        }
      ],
      "source": [
        "model = tf.keras.models.Sequential( [\n",
        "    tf.keras.layers.LSTM( NEURONS, input_shape=( INPUT_TIMESTEPS, INPUT_DIM), return_sequences=True),\n",
        "    tf.keras.layers.Dropout( DROPOUT),\n",
        "    tf.keras.layers.LSTM( NEURONS, return_sequences=True),\n",
        "    tf.keras.layers.LSTM( NEURONS, return_sequences=False),\n",
        "    tf.keras.layers.Dropout( DROPOUT),\n",
        "    tf.keras.layers.Dense( DENSE_OUTPUT, activation=\"linear\")\n",
        "])\n",
        "\n",
        "model.compile(\n",
        "    loss=\"mse\",\n",
        "    optimizer=\"adam\"\n",
        ")\n",
        "\n",
        "model.summary()"
      ]
    },
    {
      "cell_type": "markdown",
      "metadata": {
        "id": "OGXTKKSenIeE"
      },
      "source": [
        "##### train model"
      ]
    },
    {
      "cell_type": "code",
      "execution_count": 13,
      "metadata": {
        "colab": {
          "base_uri": "https://localhost:8080/"
        },
        "id": "XvXgRccAnJto",
        "outputId": "2791b59d-ed00-4f36-fcf8-3a34da9070b9"
      },
      "outputs": [
        {
          "name": "stdout",
          "output_type": "stream",
          "text": [
            "Epoch 1/5\n",
            "4/4 [==============================] - 18s 49ms/step - loss: 0.4503\n",
            "Epoch 2/5\n",
            "4/4 [==============================] - 0s 47ms/step - loss: 0.3510\n",
            "Epoch 3/5\n",
            "4/4 [==============================] - 0s 78ms/step - loss: 0.2444\n",
            "Epoch 4/5\n",
            "4/4 [==============================] - 0s 52ms/step - loss: 0.2193\n",
            "Epoch 5/5\n",
            "4/4 [==============================] - 0s 50ms/step - loss: 0.1939\n"
          ]
        }
      ],
      "source": [
        "history = model.fit(\n",
        "    x_train,\n",
        "    y_train,\n",
        "    epochs=EPOCHS,\n",
        "    batch_size=BATCH_SIZE\n",
        ")"
      ]
    },
    {
      "cell_type": "markdown",
      "metadata": {
        "id": "H_HEw5c1nSDc"
      },
      "source": [
        "##### plot loss"
      ]
    },
    {
      "cell_type": "code",
      "execution_count": 14,
      "metadata": {
        "colab": {
          "base_uri": "https://localhost:8080/",
          "height": 452
        },
        "id": "AFUU12gtnTNh",
        "outputId": "478331d0-230c-4cde-f0ec-48ba8f8978cd"
      },
      "outputs": [
        {
          "data": {
            "image/png": "[encoded data removed]",
            "text/plain": [
              "<Figure size 640x480 with 1 Axes>"
            ]
          },
          "metadata": {},
          "output_type": "display_data"
        }
      ],
      "source": [
        "plt.figure()\n",
        "plt.plot( history.history[ \"loss\"], label=\"Loss\")\n",
        "plt.title( \"Training Loss With News Data\")\n",
        "plt.show()"
      ]
    },
    {
      "cell_type": "markdown",
      "metadata": {
        "id": "_04a1RsYnYiQ"
      },
      "source": [
        "##### denormalize data"
      ]
    },
    {
      "cell_type": "code",
      "execution_count": 15,
      "metadata": {
        "id": "cnQo9t5EnaoX"
      },
      "outputs": [],
      "source": [
        "def denormalize( data, record_min, record_max):\n",
        "    denormalized = []\n",
        "    for i in range( len( data)):\n",
        "        minimum = record_min[ i]\n",
        "        maximum = record_max[ i]\n",
        "        diff = maximum - minimum\n",
        "        denormalized.append( data[ i] * diff + minimum)\n",
        "\n",
        "    return np.array( denormalized)"
      ]
    },
    {
      "cell_type": "markdown",
      "metadata": {
        "id": "02LokSFdnd0r"
      },
      "source": [
        "##### predict all data"
      ]
    },
    {
      "cell_type": "code",
      "execution_count": 16,
      "metadata": {
        "id": "oFjb7vfSnfm6"
      },
      "outputs": [],
      "source": [
        "all_data_windows = create_win_data( df[ [ \"Adj Close\", \"wsj_mean_compound\", \"cnbc_mean_compound\", \"fortune_mean_compound\", \"reuters_mean_compound\"]].values, SEQUENCE_LENGTH)\n",
        "normalized_all_data, record_min_all, record_max_all = normalize( all_data_windows)\n",
        "x_all, y_all = input_label( normalized_all_data)"
      ]
    },
    {
      "cell_type": "code",
      "execution_count": 17,
      "metadata": {
        "colab": {
          "base_uri": "https://localhost:8080/"
        },
        "id": "yqzWZdZ6nshR",
        "outputId": "21fb9b23-2fc4-4e68-f3fe-686cdfb5ce63"
      },
      "outputs": [
        {
          "name": "stdout",
          "output_type": "stream",
          "text": [
            "4/4 [==============================] - 4s 8ms/step\n"
          ]
        }
      ],
      "source": [
        "y_all_pred = model.predict( x_all)"
      ]
    },
    {
      "cell_type": "code",
      "execution_count": 18,
      "metadata": {
        "id": "rRs_a20InxA1"
      },
      "outputs": [],
      "source": [
        "y_all_pred_denormalized = denormalize( y_all_pred, record_min_all, record_max_all)\n",
        "\n",
        "np.save( \"data/result/dp-lstm_with_news_on_sp500_denormalized_all.npy\", y_all_pred_denormalized)"
      ]
    },
    {
      "cell_type": "code",
      "execution_count": 19,
      "metadata": {
        "colab": {
          "base_uri": "https://localhost:8080/",
          "height": 430
        },
        "id": "Ee7V5A8LoEWL",
        "outputId": "55eb8435-7401-4ddd-899b-07bb18ee94f4"
      },
      "outputs": [
        {
          "data": {
            "image/png": "[encoded data removed]",
            "text/plain": [
              "<Figure size 640x480 with 1 Axes>"
            ]
          },
          "metadata": {},
          "output_type": "display_data"
        }
      ],
      "source": [
        "x = [ datetime.strptime( d, \"%Y-%m-%d\") for d in df[ \"date\"].values]\n",
        "\n",
        "plt.figure()\n",
        "plt.plot( x, df[ \"Adj Close\"].values, label=\"S&P500\")\n",
        "plt.plot( x[ 10:], y_all_pred_denormalized, label=\"DP-LSTM with news\")\n",
        "plt.legend()\n",
        "plt.show()"
      ]
    },
    {
      "cell_type": "markdown",
      "metadata": {
        "id": "vxzB6P9doLFU"
      },
      "source": [
        "##### predict test data"
      ]
    },
    {
      "cell_type": "code",
      "execution_count": 20,
      "metadata": {
        "colab": {
          "base_uri": "https://localhost:8080/"
        },
        "id": "FzLcc5b_oNOG",
        "outputId": "becffde5-511c-40f7-bf80-bbbffcda3d4b"
      },
      "outputs": [
        {
          "name": "stdout",
          "output_type": "stream",
          "text": [
            "1/1 [==============================] - 0s 32ms/step\n",
            "1/1 [==============================] - 0s 37ms/step\n",
            "1/1 [==============================] - 0s 36ms/step\n",
            "1/1 [==============================] - 0s 38ms/step\n",
            "1/1 [==============================] - 0s 33ms/step\n",
            "1/1 [==============================] - 0s 31ms/step\n",
            "1/1 [==============================] - 0s 32ms/step\n",
            "1/1 [==============================] - 0s 33ms/step\n",
            "1/1 [==============================] - 0s 36ms/step\n"
          ]
        }
      ],
      "source": [
        "prediction_sequence = []\n",
        "prediction_window_numbers = int( len( x_test) / PREDICTION_LENGTH)\n",
        "\n",
        "for i in range( prediction_window_numbers):\n",
        "    current_frame = x_test[ i * PREDICTION_LENGTH]\n",
        "    predicted = []\n",
        "    for j in range( PREDICTION_LENGTH):\n",
        "        t = model.predict( current_frame[ np.newaxis, :])[ 0]\n",
        "        predicted.append( t)\n",
        "        current_frame = current_frame[ 1:]\n",
        "        current_frame = np.insert( current_frame, [ SEQUENCE_LENGTH - 2], predicted[ -1], axis=0)\n",
        "    prediction_sequence.append( predicted)\n",
        "\n",
        "prediction_sequence = np.array( prediction_sequence)"
      ]
    },
    {
      "cell_type": "markdown",
      "metadata": {
        "id": "yDjmX3LOoQ8z"
      },
      "source": [
        "##### test label original (denormalized)"
      ]
    },
    {
      "cell_type": "code",
      "execution_count": 21,
      "metadata": {
        "id": "gBxjhWTCoTu5"
      },
      "outputs": [],
      "source": [
        "y_test_orig = denormalize( y_test, record_min_test, record_max_test)"
      ]
    },
    {
      "cell_type": "markdown",
      "metadata": {
        "id": "jk9CaMeeoVlr"
      },
      "source": [
        "##### denormalize predicted labels"
      ]
    },
    {
      "cell_type": "code",
      "execution_count": 22,
      "metadata": {
        "id": "8ByxToWZoY-3"
      },
      "outputs": [],
      "source": [
        "y_pred_denormalized = denormalize( prediction_sequence.flatten(), record_min_test, record_max_test)"
      ]
    },
    {
      "cell_type": "markdown",
      "metadata": {
        "id": "_W2dzeprobEP"
      },
      "source": [
        "##### evaluation"
      ]
    },
    {
      "cell_type": "code",
      "execution_count": 23,
      "metadata": {
        "colab": {
          "base_uri": "https://localhost:8080/"
        },
        "id": "gOOLlQeaocPD",
        "outputId": "a4885e39-7768-4ca5-89ee-aef3408b0112"
      },
      "outputs": [
        {
          "name": "stdout",
          "output_type": "stream",
          "text": [
            "MSE: 203.72884638930137\n",
            "Accuracy: 0.9957486137801178\n",
            "Mean Error Percent: 0.004251386219882144\n"
          ]
        }
      ],
      "source": [
        "error = []\n",
        "squared_error = []\n",
        "abs_error = []\n",
        "error_percent = []\n",
        "\n",
        "for i in range( len( y_test_orig)):\n",
        "    e = y_test_orig[ i] - y_pred_denormalized[ i]\n",
        "    error.append( e)\n",
        "    squared_error.append( e ** 2)\n",
        "    abs_error.append( np.abs( e))\n",
        "    error_percent.append( np.abs( e) / y_test_orig[ i])\n",
        "\n",
        "mean_percent_error = np.sum( error_percent) / len( error_percent)\n",
        "accuracy = 1 - mean_percent_error\n",
        "\n",
        "MSE = np.sum( squared_error) / len( squared_error)\n",
        "\n",
        "print( f\"MSE: { MSE}\")\n",
        "print( f\"Accuracy: { accuracy}\")\n",
        "print( f\"Mean Error Percent: { mean_percent_error}\")"
      ]
    }
  ],
  "metadata": {
    "colab": {
      "provenance": []
    },
    "kernelspec": {
      "display_name": "Python 3.8.6 64-bit",
      "language": "python",
      "name": "python3"
    },
    "language_info": {
      "name": "python",
      "version": "3.8.6"
    },
    "vscode": {
      "interpreter": {
        "hash": "cccb80c535c03ea85c927d83b1212f93133456f0701648b808e4e1f70d2d0413"
      }
    }
  },
  "nbformat": 4,
  "nbformat_minor": 0
}
