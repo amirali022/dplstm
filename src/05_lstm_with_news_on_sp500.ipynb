{
  "cells": [
    {
      "cell_type": "markdown",
      "metadata": {
        "id": "ZNLWQIe6AnCb"
      },
      "source": [
        "##### import statements"
      ]
    },
    {
      "cell_type": "code",
      "execution_count": 2,
      "metadata": {
        "id": "tq_ToB2mAyg5"
      },
      "outputs": [],
      "source": [
        "import pandas as pd\n",
        "import numpy as np\n",
        "import matplotlib.pyplot as plt\n",
        "import tensorflow as tf\n",
        "from datetime import datetime"
      ]
    },
    {
      "cell_type": "markdown",
      "metadata": {
        "id": "BGbNh9_GA2g-"
      },
      "source": [
        "##### read input csv file"
      ]
    },
    {
      "cell_type": "code",
      "execution_count": 3,
      "metadata": {
        "id": "ELYLh0I6A1nx"
      },
      "outputs": [],
      "source": [
        "df = pd.read_csv( \"data/result/source_price.csv\").drop( \"Unnamed: 0\", axis=1)"
      ]
    },
    {
      "cell_type": "code",
      "execution_count": 4,
      "metadata": {
        "colab": {
          "base_uri": "https://localhost:8080/"
        },
        "id": "afQ-K9OuA-cO",
        "outputId": "4eef0b36-f0d1-4313-f5f1-33188a770ae2"
      },
      "outputs": [
        {
          "name": "stdout",
          "output_type": "stream",
          "text": [
            "Data Length: 121\n",
            "Data Shape: (121, 5)\n"
          ]
        }
      ],
      "source": [
        "data = df[ [ \"Adj Close\", \"wsj_mean_compound\", \"cnbc_mean_compound\", \"fortune_mean_compound\", \"reuters_mean_compound\"]].values\n",
        "\n",
        "len_data = len( data)\n",
        "\n",
        "print( f\"Data Length: { len_data}\")\n",
        "print( f\"Data Shape: { data.shape}\")"
      ]
    },
    {
      "cell_type": "markdown",
      "metadata": {
        "id": "C4S5ZSxwBqfg"
      },
      "source": [
        "##### static variable"
      ]
    },
    {
      "cell_type": "code",
      "execution_count": 5,
      "metadata": {
        "id": "S86ruZAvBsZC"
      },
      "outputs": [],
      "source": [
        "SPLIT = 0.85\n",
        "SEQUENCE_LENGTH = 10\n",
        "BATCH_SIZE = 100\n",
        "INPUT_DIM = 5\n",
        "INPUT_TIMESTEPS = 9\n",
        "NEURONS = 50\n",
        "EPOCHS = 5\n",
        "PREDICTION_LENGTH = 1\n",
        "DENSE_OUTPUT = 1\n",
        "DROPOUT = 0.2"
      ]
    },
    {
      "cell_type": "markdown",
      "metadata": {
        "id": "TUF66f9FBv1e"
      },
      "source": [
        "##### create window data"
      ]
    },
    {
      "cell_type": "code",
      "execution_count": 6,
      "metadata": {
        "id": "nfwHHE6IBySe"
      },
      "outputs": [],
      "source": [
        "def create_win_data( data, sequence_length):\n",
        "    len_data = len( data)\n",
        "\n",
        "    data_windows = []\n",
        "    for i in range( len_data - sequence_length):\n",
        "        data_windows.append( data[ i:i + sequence_length])\n",
        "\n",
        "    return np.array( data_windows).astype( float)"
      ]
    },
    {
      "cell_type": "markdown",
      "metadata": {
        "id": "msm14memOZKf"
      },
      "source": [
        "##### normalize data"
      ]
    },
    {
      "cell_type": "code",
      "execution_count": 7,
      "metadata": {
        "id": "_FIvj8J3Oa7R"
      },
      "outputs": [],
      "source": [
        "def normalize( data_windows):\n",
        "    normalized_data = []\n",
        "    record_min = []\n",
        "    record_max = []\n",
        "\n",
        "    for i in range( len( data_windows)):\n",
        "        t = data_windows[ i, :, 0]\n",
        "\n",
        "        minimum = t.min()\n",
        "        record_min.append( minimum)\n",
        "\n",
        "        maximum = t.max()\n",
        "        record_max.append( maximum)\n",
        "\n",
        "        diff = maximum - minimum\n",
        "\n",
        "        t = t - minimum\n",
        "        t = t / diff\n",
        "\n",
        "        data_windows[ i, :, 0] = t\n",
        "\n",
        "        normalized_data.append( data_windows[ i])\n",
        "\n",
        "    record_min = np.array( record_min)\n",
        "    record_max = np.array( record_max)\n",
        "    normalized_data = np.array( normalized_data)\n",
        "\n",
        "    return normalized_data, record_min, record_max\n"
      ]
    },
    {
      "cell_type": "markdown",
      "metadata": {
        "id": "S0FNyuXeQEKo"
      },
      "source": [
        "##### features and labels"
      ]
    },
    {
      "cell_type": "code",
      "execution_count": 8,
      "metadata": {
        "id": "LLQ1091XQF8h"
      },
      "outputs": [],
      "source": [
        "def input_label( data):\n",
        "    x = data[ :, :-1]\n",
        "    y = data[ :, -1, [ 0]]\n",
        "\n",
        "    return x, y"
      ]
    },
    {
      "cell_type": "markdown",
      "metadata": {
        "id": "4hL9D51uB4yU"
      },
      "source": [
        "##### split train & test data"
      ]
    },
    {
      "cell_type": "code",
      "execution_count": 9,
      "metadata": {
        "colab": {
          "base_uri": "https://localhost:8080/"
        },
        "id": "V3vCmbnKB7cM",
        "outputId": "8d49c952-84f7-4f2c-d1f2-9b41d9f185c0"
      },
      "outputs": [
        {
          "name": "stdout",
          "output_type": "stream",
          "text": [
            "Train Data Length: 102, Train Data Shape: (102, 5)\n",
            "Test Data Length: 19, Test Data Shape: (19, 5)\n"
          ]
        }
      ],
      "source": [
        "i_split = int( len_data * SPLIT)\n",
        "\n",
        "data_train = data[ :i_split]\n",
        "data_test = data[ i_split:]\n",
        "\n",
        "print( f\"Train Data Length: { len( data_train)}, Train Data Shape: { data_train.shape}\")\n",
        "print( f\"Test Data Length: { len( data_test)}, Test Data Shape: { data_test.shape}\")"
      ]
    },
    {
      "cell_type": "markdown",
      "metadata": {
        "id": "fd2XUNDQCBul"
      },
      "source": [
        "##### prepare train data"
      ]
    },
    {
      "cell_type": "code",
      "execution_count": 10,
      "metadata": {
        "id": "YWWsxpskCDVk"
      },
      "outputs": [],
      "source": [
        "train_data_windows = create_win_data( data_train, SEQUENCE_LENGTH)\n",
        "normalized_train_data, record_min_train, record_max_train = normalize( train_data_windows)\n",
        "x_train, y_train = input_label( normalized_train_data)"
      ]
    },
    {
      "cell_type": "markdown",
      "metadata": {
        "id": "6lf7oMINRsHY"
      },
      "source": [
        "##### prepare test data"
      ]
    },
    {
      "cell_type": "code",
      "execution_count": 11,
      "metadata": {
        "id": "JnSQyutNRuBg"
      },
      "outputs": [],
      "source": [
        "test_data_windows = create_win_data( data_test, SEQUENCE_LENGTH)\n",
        "normalized_test_data, record_min_test, record_max_test = normalize( test_data_windows)\n",
        "x_test, y_test = input_label( normalized_test_data)"
      ]
    },
    {
      "cell_type": "markdown",
      "metadata": {
        "id": "ORBeDjukRzIY"
      },
      "source": [
        "##### create model"
      ]
    },
    {
      "cell_type": "code",
      "execution_count": 12,
      "metadata": {
        "colab": {
          "base_uri": "https://localhost:8080/"
        },
        "id": "LTslunwbR0es",
        "outputId": "d76b4595-57b0-4bac-c187-048a98a07f25"
      },
      "outputs": [
        {
          "name": "stdout",
          "output_type": "stream",
          "text": [
            "Model: \"sequential\"\n",
            "_________________________________________________________________\n",
            " Layer (type)                Output Shape              Param #   \n",
            "=================================================================\n",
            " lstm (LSTM)                 (None, 9, 50)             11200     \n",
            "                                                                 \n",
            " dropout (Dropout)           (None, 9, 50)             0         \n",
            "                                                                 \n",
            " lstm_1 (LSTM)               (None, 9, 50)             20200     \n",
            "                                                                 \n",
            " lstm_2 (LSTM)               (None, 50)                20200     \n",
            "                                                                 \n",
            " dropout_1 (Dropout)         (None, 50)                0         \n",
            "                                                                 \n",
            " dense (Dense)               (None, 1)                 51        \n",
            "                                                                 \n",
            "=================================================================\n",
            "Total params: 51651 (201.76 KB)\n",
            "Trainable params: 51651 (201.76 KB)\n",
            "Non-trainable params: 0 (0.00 Byte)\n",
            "_________________________________________________________________\n"
          ]
        }
      ],
      "source": [
        "model = tf.keras.models.Sequential( [\n",
        "    tf.keras.layers.LSTM( NEURONS, input_shape=( INPUT_TIMESTEPS, INPUT_DIM), return_sequences=True),\n",
        "    tf.keras.layers.Dropout( DROPOUT),\n",
        "    tf.keras.layers.LSTM( NEURONS, return_sequences=True),\n",
        "    tf.keras.layers.LSTM( NEURONS, return_sequences=False),\n",
        "    tf.keras.layers.Dropout( DROPOUT),\n",
        "    tf.keras.layers.Dense( DENSE_OUTPUT, activation=\"linear\")\n",
        "])\n",
        "\n",
        "model.compile(\n",
        "    loss=\"mse\",\n",
        "    optimizer=\"adam\"\n",
        ")\n",
        "\n",
        "model.summary()"
      ]
    },
    {
      "cell_type": "markdown",
      "metadata": {
        "id": "lRgK2x1fSESS"
      },
      "source": [
        "##### train model"
      ]
    },
    {
      "cell_type": "code",
      "execution_count": 13,
      "metadata": {
        "colab": {
          "base_uri": "https://localhost:8080/"
        },
        "id": "TJ_1nNc6SFuZ",
        "outputId": "87d87396-1be4-4999-ebb6-a5302c20b022"
      },
      "outputs": [
        {
          "name": "stdout",
          "output_type": "stream",
          "text": [
            "Epoch 1/5\n",
            "1/1 [==============================] - 18s 18s/step - loss: 0.4988\n",
            "Epoch 2/5\n",
            "1/1 [==============================] - 0s 68ms/step - loss: 0.4594\n",
            "Epoch 3/5\n",
            "1/1 [==============================] - 0s 83ms/step - loss: 0.4190\n",
            "Epoch 4/5\n",
            "1/1 [==============================] - 0s 56ms/step - loss: 0.3842\n",
            "Epoch 5/5\n",
            "1/1 [==============================] - 0s 43ms/step - loss: 0.3507\n"
          ]
        }
      ],
      "source": [
        "history = model.fit(\n",
        "    x_train,\n",
        "    y_train,\n",
        "    epochs=EPOCHS,\n",
        "    batch_size=BATCH_SIZE\n",
        ")"
      ]
    },
    {
      "cell_type": "markdown",
      "metadata": {
        "id": "oEjnfOjDSMc3"
      },
      "source": [
        "##### plot loss"
      ]
    },
    {
      "cell_type": "code",
      "execution_count": 14,
      "metadata": {
        "colab": {
          "base_uri": "https://localhost:8080/",
          "height": 452
        },
        "id": "7LL4W-3XSL1K",
        "outputId": "60215889-f7a9-4d6e-9553-71a7fd9e46ca"
      },
      "outputs": [
        {
          "data": {
            "image/png": "[encoded data removed]",
            "text/plain": [
              "<Figure size 640x480 with 1 Axes>"
            ]
          },
          "metadata": {},
          "output_type": "display_data"
        }
      ],
      "source": [
        "plt.figure()\n",
        "plt.plot( history.history[ \"loss\"], label=\"Loss\")\n",
        "plt.title( \"Training Loss With News Data\")\n",
        "plt.show()"
      ]
    },
    {
      "cell_type": "markdown",
      "metadata": {
        "id": "VroNuy78SSPy"
      },
      "source": [
        "##### denormalize data"
      ]
    },
    {
      "cell_type": "code",
      "execution_count": 15,
      "metadata": {
        "id": "tR-1NsPeSUos"
      },
      "outputs": [],
      "source": [
        "def denormalize( data, record_min, record_max):\n",
        "    denormalized = []\n",
        "    for i in range( len( data)):\n",
        "        minimum = record_min[ i]\n",
        "        maximum = record_max[ i]\n",
        "        diff = maximum - minimum\n",
        "        denormalized.append( data[ i] * diff + minimum)\n",
        "\n",
        "    return np.array( denormalized)"
      ]
    },
    {
      "cell_type": "markdown",
      "metadata": {
        "id": "YzpIrHBISfUL"
      },
      "source": [
        "##### predict all data"
      ]
    },
    {
      "cell_type": "code",
      "execution_count": 16,
      "metadata": {
        "id": "jrlCRKT0ShBu"
      },
      "outputs": [],
      "source": [
        "all_data_windows = create_win_data( data, SEQUENCE_LENGTH)\n",
        "normalized_all_data, record_min_all, record_max_all = normalize( all_data_windows)\n",
        "x_all, y_all = input_label( normalized_all_data)"
      ]
    },
    {
      "cell_type": "code",
      "execution_count": 17,
      "metadata": {
        "colab": {
          "base_uri": "https://localhost:8080/"
        },
        "id": "tT1w7i0eSvzb",
        "outputId": "15ff1d31-d80b-42a9-bff2-add7809be7a1"
      },
      "outputs": [
        {
          "name": "stdout",
          "output_type": "stream",
          "text": [
            "4/4 [==============================] - 1s 7ms/step\n"
          ]
        }
      ],
      "source": [
        "y_all_pred = model.predict( x_all)"
      ]
    },
    {
      "cell_type": "code",
      "execution_count": 18,
      "metadata": {
        "id": "KliRQi78SzRt"
      },
      "outputs": [],
      "source": [
        "y_all_pred_denormalized = denormalize( y_all_pred, record_min_all, record_max_all)\n",
        "\n",
        "np.save( \"data/result/lstm_with_news_on_sp500_denormalized_all.npy\", y_all_pred_denormalized)"
      ]
    },
    {
      "cell_type": "code",
      "execution_count": 19,
      "metadata": {
        "colab": {
          "base_uri": "https://localhost:8080/",
          "height": 430
        },
        "id": "fxNdbz3oTBc2",
        "outputId": "0f8c5cc7-9aab-4103-c03f-1d7a5527b2e1"
      },
      "outputs": [
        {
          "data": {
            "image/png": "[encoded data removed]",
            "text/plain": [
              "<Figure size 640x480 with 1 Axes>"
            ]
          },
          "metadata": {},
          "output_type": "display_data"
        }
      ],
      "source": [
        "x = [ datetime.strptime( d, \"%Y-%m-%d\") for d in df[ \"date\"].values]\n",
        "\n",
        "plt.figure()\n",
        "plt.plot( x, df[ \"Adj Close\"].values, label=\"S&P500\")\n",
        "plt.plot( x[ 10:], y_all_pred_denormalized, label=\"LSTM with news\")\n",
        "plt.legend()\n",
        "plt.show()"
      ]
    },
    {
      "cell_type": "markdown",
      "metadata": {
        "id": "2OJ11Y2HTxsZ"
      },
      "source": [
        "##### predict test data"
      ]
    },
    {
      "cell_type": "code",
      "execution_count": 20,
      "metadata": {
        "colab": {
          "base_uri": "https://localhost:8080/"
        },
        "id": "f2AAO8Q8TzN1",
        "outputId": "042c5b2a-85d0-4b1b-bc81-69292c59ed73"
      },
      "outputs": [
        {
          "name": "stdout",
          "output_type": "stream",
          "text": [
            "1/1 [==============================] - 0s 31ms/step\n",
            "1/1 [==============================] - 0s 25ms/step\n",
            "1/1 [==============================] - 0s 25ms/step\n",
            "1/1 [==============================] - 0s 22ms/step\n",
            "1/1 [==============================] - 0s 22ms/step\n",
            "1/1 [==============================] - 0s 26ms/step\n",
            "1/1 [==============================] - 0s 26ms/step\n",
            "1/1 [==============================] - 0s 23ms/step\n",
            "1/1 [==============================] - 0s 22ms/step\n"
          ]
        }
      ],
      "source": [
        "prediction_sequence = []\n",
        "prediction_window_numbers = int( len( x_test) / PREDICTION_LENGTH)\n",
        "\n",
        "for i in range( prediction_window_numbers):\n",
        "    current_frame = x_test[ i * PREDICTION_LENGTH]\n",
        "    predicted = []\n",
        "    for j in range( PREDICTION_LENGTH):\n",
        "        t = model.predict( current_frame[ np.newaxis, :])[ 0]\n",
        "        predicted.append( t)\n",
        "        current_frame = current_frame[ 1:]\n",
        "        current_frame = np.insert( current_frame, [ SEQUENCE_LENGTH - 2], predicted[ -1], axis=0)\n",
        "    prediction_sequence.append( predicted)\n",
        "\n",
        "prediction_sequence = np.array( prediction_sequence)"
      ]
    },
    {
      "cell_type": "markdown",
      "metadata": {
        "id": "ctN6AQH0UGCP"
      },
      "source": [
        "##### test label original (denormalized)"
      ]
    },
    {
      "cell_type": "code",
      "execution_count": 21,
      "metadata": {
        "id": "-SVduMzAT-JR"
      },
      "outputs": [],
      "source": [
        "y_test_orig = denormalize( y_test, record_min_test, record_max_test)"
      ]
    },
    {
      "cell_type": "markdown",
      "metadata": {
        "id": "F-3UegV0ULQX"
      },
      "source": [
        "##### denormalize predicted labels"
      ]
    },
    {
      "cell_type": "code",
      "execution_count": 22,
      "metadata": {
        "id": "bbkTYw9jUNq2"
      },
      "outputs": [],
      "source": [
        "y_pred_denormalized = denormalize( prediction_sequence.flatten(), record_min_test, record_max_test)"
      ]
    },
    {
      "cell_type": "markdown",
      "metadata": {
        "id": "bZdvWH9uUQ-u"
      },
      "source": [
        "##### evaluation"
      ]
    },
    {
      "cell_type": "code",
      "execution_count": 23,
      "metadata": {
        "colab": {
          "base_uri": "https://localhost:8080/"
        },
        "id": "8Z6uFua6USQg",
        "outputId": "e5a29f3a-23cf-47f1-fa03-bb778a6329c7"
      },
      "outputs": [
        {
          "name": "stdout",
          "output_type": "stream",
          "text": [
            "MSE: 540.5066018098522\n",
            "Accuracy: 0.992908806361862\n",
            "Mean Error Percent: 0.00709119363813808\n"
          ]
        }
      ],
      "source": [
        "error = []\n",
        "squared_error = []\n",
        "abs_error = []\n",
        "error_percent = []\n",
        "\n",
        "for i in range( len( y_test_orig)):\n",
        "    e = y_test_orig[ i] - y_pred_denormalized[ i]\n",
        "    error.append( e)\n",
        "    squared_error.append( e ** 2)\n",
        "    abs_error.append( np.abs( e))\n",
        "    error_percent.append( np.abs( e) / y_test_orig[ i])\n",
        "\n",
        "mean_percent_error = np.sum( error_percent) / len( error_percent)\n",
        "accuracy = 1 - mean_percent_error\n",
        "\n",
        "MSE = np.sum( squared_error) / len( squared_error)\n",
        "\n",
        "print( f\"MSE: { MSE}\")\n",
        "print( f\"Accuracy: { accuracy}\")\n",
        "print( f\"Mean Error Percent: { mean_percent_error}\")"
      ]
    }
  ],
  "metadata": {
    "colab": {
      "provenance": []
    },
    "kernelspec": {
      "display_name": "Python 3.8.6 64-bit",
      "language": "python",
      "name": "python3"
    },
    "language_info": {
      "name": "python",
      "version": "3.8.6"
    },
    "vscode": {
      "interpreter": {
        "hash": "cccb80c535c03ea85c927d83b1212f93133456f0701648b808e4e1f70d2d0413"
      }
    }
  },
  "nbformat": 4,
  "nbformat_minor": 0
}
