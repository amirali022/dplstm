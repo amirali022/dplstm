{
  "cells": [
    {
      "cell_type": "markdown",
      "metadata": {
        "id": "kEVFstre43Y2"
      },
      "source": [
        "##### import statements"
      ]
    },
    {
      "cell_type": "code",
      "execution_count": 2,
      "metadata": {
        "id": "sFEx5t1T46Rj"
      },
      "outputs": [],
      "source": [
        "import pandas as pd\n",
        "import numpy as np\n",
        "import matplotlib.pyplot as plt\n",
        "import matplotlib.ticker as ticker\n",
        "import tensorflow as tf\n",
        "from datetime import datetime"
      ]
    },
    {
      "cell_type": "markdown",
      "metadata": {
        "id": "LW6wdtJEC1c-"
      },
      "source": [
        "##### read input csv file"
      ]
    },
    {
      "cell_type": "code",
      "execution_count": 3,
      "metadata": {
        "id": "vcPHfkORC3xE"
      },
      "outputs": [],
      "source": [
        "df = pd.read_csv( \"data/result/source_price.csv\").drop( \"Unnamed: 0\", axis=1)"
      ]
    },
    {
      "cell_type": "code",
      "execution_count": 4,
      "metadata": {
        "colab": {
          "base_uri": "https://localhost:8080/"
        },
        "id": "WKizBC8NDs1q",
        "outputId": "546dcdb8-ca18-4611-f5a4-09106b6c7ab6"
      },
      "outputs": [
        {
          "name": "stdout",
          "output_type": "stream",
          "text": [
            "Date Length: 121\n"
          ]
        }
      ],
      "source": [
        "adj_close = df[ \"Adj Close\"].values\n",
        "\n",
        "len_data = len( adj_close)\n",
        "\n",
        "print( f\"Date Length: { len_data}\")"
      ]
    },
    {
      "cell_type": "markdown",
      "metadata": {
        "id": "K-l4Uh8bGWmi"
      },
      "source": [
        "##### static variable"
      ]
    },
    {
      "cell_type": "code",
      "execution_count": 5,
      "metadata": {
        "id": "HEcOD27zGTK6"
      },
      "outputs": [],
      "source": [
        "SPLIT = 0.85\n",
        "SEQUENCE_LENGTH = 10\n",
        "BATCH_SIZE = 100\n",
        "INPUT_DIM = 1\n",
        "INPUT_TIMESTEPS = 9\n",
        "NEURONS = 50\n",
        "EPOCHS = 5\n",
        "PREDICTION_LENGTH = 1\n",
        "DENSE_OUTPUT = 1\n",
        "DROPOUT = 0.2"
      ]
    },
    {
      "cell_type": "markdown",
      "metadata": {
        "id": "iAkuHGC6IvUF"
      },
      "source": [
        "##### create window data"
      ]
    },
    {
      "cell_type": "code",
      "execution_count": 6,
      "metadata": {
        "id": "Sk4F01o2I64i"
      },
      "outputs": [],
      "source": [
        "def create_win_data( data, sequence_length):\n",
        "    len_data = len( data)\n",
        "\n",
        "    data_windows = []\n",
        "    for i in range( len_data - sequence_length):\n",
        "        data_windows.append( data[ i:i + sequence_length])\n",
        "\n",
        "    return np.array( data_windows).astype( float)"
      ]
    },
    {
      "cell_type": "markdown",
      "metadata": {
        "id": "T3xtMs_YJsAe"
      },
      "source": [
        "##### normalize data"
      ]
    },
    {
      "cell_type": "code",
      "execution_count": 7,
      "metadata": {
        "id": "OdUdDP2rJuLs"
      },
      "outputs": [],
      "source": [
        "def normalize( data_windows):\n",
        "    normalized_data = []\n",
        "    record_min = []\n",
        "    record_max = []\n",
        "\n",
        "    for i in range( len( data_windows)):\n",
        "        temp = data_windows[ i]\n",
        "\n",
        "        minimum = temp.min()\n",
        "        record_min.append( minimum)\n",
        "\n",
        "        maximum = temp.max()\n",
        "        record_max.append( maximum)\n",
        "\n",
        "        diff = maximum - minimum\n",
        "\n",
        "        temp = temp - minimum\n",
        "        temp = temp / diff\n",
        "\n",
        "        normalized_data.append( temp)\n",
        "\n",
        "    record_min = np.array( record_min)\n",
        "    record_max = np.array( record_max)\n",
        "    normalized_data = np.array( normalized_data)\n",
        "\n",
        "    return normalized_data, record_min, record_max\n"
      ]
    },
    {
      "cell_type": "markdown",
      "metadata": {
        "id": "aY-D6-0BPs0Q"
      },
      "source": [
        "##### features and labels"
      ]
    },
    {
      "cell_type": "code",
      "execution_count": 8,
      "metadata": {
        "id": "eGXSxqeNPvW3"
      },
      "outputs": [],
      "source": [
        "def input_labels( data):\n",
        "    x = data[ :, :-1]\n",
        "    y = data[ :, -1]\n",
        "\n",
        "    return x, y"
      ]
    },
    {
      "cell_type": "markdown",
      "metadata": {
        "id": "bkC_dsmBHQZO"
      },
      "source": [
        "##### split train & test data"
      ]
    },
    {
      "cell_type": "code",
      "execution_count": 9,
      "metadata": {
        "colab": {
          "base_uri": "https://localhost:8080/"
        },
        "id": "hYN6BziuHGzA",
        "outputId": "5135a4be-a3b9-4ea0-c378-b39cb7d5c413"
      },
      "outputs": [
        {
          "name": "stdout",
          "output_type": "stream",
          "text": [
            "Train Data Length: 102\n",
            "Test Data Length: 19\n"
          ]
        }
      ],
      "source": [
        "i_split = int( len_data * SPLIT)\n",
        "\n",
        "data_train = adj_close[ :i_split]\n",
        "data_test = adj_close[ i_split:]\n",
        "\n",
        "print( f\"Train Data Length: { len( data_train)}\")\n",
        "print( f\"Test Data Length: { len( data_test)}\")"
      ]
    },
    {
      "cell_type": "markdown",
      "metadata": {
        "id": "qDfoSp0uKFO7"
      },
      "source": [
        "##### prepare train data"
      ]
    },
    {
      "cell_type": "code",
      "execution_count": 10,
      "metadata": {
        "id": "L5K9fIGhKHO8"
      },
      "outputs": [],
      "source": [
        "train_data_windows = create_win_data( data_train, SEQUENCE_LENGTH)\n",
        "normalized_train_data, record_min_train, record_max_train = normalize( train_data_windows)\n",
        "x_train, y_train = input_labels( normalized_train_data)"
      ]
    },
    {
      "cell_type": "markdown",
      "metadata": {
        "id": "x6mzIdpFSv-5"
      },
      "source": [
        "##### prepare test data"
      ]
    },
    {
      "cell_type": "code",
      "execution_count": 11,
      "metadata": {
        "id": "NcgJ6DehSyXV"
      },
      "outputs": [],
      "source": [
        "test_data_windows = create_win_data( data_test, SEQUENCE_LENGTH)\n",
        "normalized_test_data, record_min_test, record_max_test = normalize( test_data_windows)\n",
        "x_test, y_test = input_labels( normalized_test_data)"
      ]
    },
    {
      "cell_type": "markdown",
      "metadata": {
        "id": "dZiA7OJKTitf"
      },
      "source": [
        "##### create model"
      ]
    },
    {
      "cell_type": "code",
      "execution_count": 12,
      "metadata": {
        "colab": {
          "base_uri": "https://localhost:8080/"
        },
        "id": "qYNdF0cCTkgk",
        "outputId": "01565714-f66b-4e30-d21a-19a74992b786"
      },
      "outputs": [
        {
          "name": "stdout",
          "output_type": "stream",
          "text": [
            "Model: \"sequential\"\n",
            "_________________________________________________________________\n",
            " Layer (type)                Output Shape              Param #   \n",
            "=================================================================\n",
            " lstm (LSTM)                 (None, 9, 50)             10400     \n",
            "                                                                 \n",
            " dropout (Dropout)           (None, 9, 50)             0         \n",
            "                                                                 \n",
            " lstm_1 (LSTM)               (None, 9, 50)             20200     \n",
            "                                                                 \n",
            " lstm_2 (LSTM)               (None, 50)                20200     \n",
            "                                                                 \n",
            " dropout_1 (Dropout)         (None, 50)                0         \n",
            "                                                                 \n",
            " dense (Dense)               (None, 1)                 51        \n",
            "                                                                 \n",
            "=================================================================\n",
            "Total params: 50851 (198.64 KB)\n",
            "Trainable params: 50851 (198.64 KB)\n",
            "Non-trainable params: 0 (0.00 Byte)\n",
            "_________________________________________________________________\n"
          ]
        }
      ],
      "source": [
        "model = tf.keras.models.Sequential( [\n",
        "    tf.keras.layers.LSTM( NEURONS, input_shape=( INPUT_TIMESTEPS, INPUT_DIM), return_sequences=True),\n",
        "    tf.keras.layers.Dropout( DROPOUT),\n",
        "    tf.keras.layers.LSTM( NEURONS, return_sequences=True),\n",
        "    tf.keras.layers.LSTM( NEURONS, return_sequences=False),\n",
        "    tf.keras.layers.Dropout( DROPOUT),\n",
        "    tf.keras.layers.Dense( DENSE_OUTPUT, activation=\"linear\")\n",
        "])\n",
        "\n",
        "model.compile(\n",
        "    loss=\"mse\",\n",
        "    optimizer=\"adam\"\n",
        ")\n",
        "\n",
        "model.summary()"
      ]
    },
    {
      "cell_type": "markdown",
      "metadata": {
        "id": "eIk3RAi7TlHi"
      },
      "source": [
        "##### train model"
      ]
    },
    {
      "cell_type": "code",
      "execution_count": 13,
      "metadata": {
        "colab": {
          "base_uri": "https://localhost:8080/"
        },
        "id": "UqKCVWXaTmbc",
        "outputId": "8e852623-8474-4cfb-87d0-2f0660e82a88"
      },
      "outputs": [
        {
          "name": "stdout",
          "output_type": "stream",
          "text": [
            "Epoch 1/5\n",
            "1/1 [==============================] - 19s 19s/step - loss: 0.4702\n",
            "Epoch 2/5\n",
            "1/1 [==============================] - 0s 64ms/step - loss: 0.4409\n",
            "Epoch 3/5\n",
            "1/1 [==============================] - 0s 53ms/step - loss: 0.4109\n",
            "Epoch 4/5\n",
            "1/1 [==============================] - 0s 51ms/step - loss: 0.3789\n",
            "Epoch 5/5\n",
            "1/1 [==============================] - 0s 60ms/step - loss: 0.3501\n"
          ]
        }
      ],
      "source": [
        "history = model.fit(\n",
        "    x_train,\n",
        "    y_train,\n",
        "    epochs=EPOCHS,\n",
        "    batch_size=BATCH_SIZE\n",
        ")"
      ]
    },
    {
      "cell_type": "markdown",
      "metadata": {
        "id": "d_IfTcukWcxu"
      },
      "source": [
        "##### plot loss"
      ]
    },
    {
      "cell_type": "code",
      "execution_count": 14,
      "metadata": {
        "colab": {
          "base_uri": "https://localhost:8080/",
          "height": 452
        },
        "id": "jH7LwIbhWfip",
        "outputId": "aee2c79b-d230-400f-a151-bf943861df52"
      },
      "outputs": [
        {
          "data": {
            "image/png": "[encoded data removed]",
            "text/plain": [
              "<Figure size 640x480 with 1 Axes>"
            ]
          },
          "metadata": {},
          "output_type": "display_data"
        }
      ],
      "source": [
        "plt.figure()\n",
        "plt.plot( history.history[ \"loss\"], label=\"Loss\")\n",
        "plt.title( \"Training Loss Without News Data\")\n",
        "plt.show()"
      ]
    },
    {
      "cell_type": "markdown",
      "metadata": {
        "id": "hwEs0NYAZ3zZ"
      },
      "source": [
        "##### denormalize data"
      ]
    },
    {
      "cell_type": "code",
      "execution_count": 15,
      "metadata": {
        "id": "lJiTC7MDZ6KK"
      },
      "outputs": [],
      "source": [
        "def denormalize( data, record_min, record_max):\n",
        "    denormalized = []\n",
        "    for i in range( len( data)):\n",
        "        minimum = record_min[ i]\n",
        "        maximum = record_max[ i]\n",
        "        diff = maximum - minimum\n",
        "        denormalized.append( data[ i] * diff + minimum)\n",
        "\n",
        "    return np.array( denormalized)"
      ]
    },
    {
      "cell_type": "markdown",
      "metadata": {
        "id": "vw6FZl-VXPwG"
      },
      "source": [
        "##### predict all data"
      ]
    },
    {
      "cell_type": "code",
      "execution_count": 16,
      "metadata": {
        "id": "PI5KFIskXzCn"
      },
      "outputs": [],
      "source": [
        "all_data_windows = create_win_data( adj_close, SEQUENCE_LENGTH)\n",
        "normalized_all_data, record_min_all, record_max_all = normalize( all_data_windows)\n",
        "x_all, y_all = input_labels( normalized_all_data)"
      ]
    },
    {
      "cell_type": "code",
      "execution_count": 17,
      "metadata": {
        "colab": {
          "base_uri": "https://localhost:8080/"
        },
        "id": "SapgZl3iYAL_",
        "outputId": "f15bfc7d-5906-47ab-c951-c55982651c6c"
      },
      "outputs": [
        {
          "name": "stdout",
          "output_type": "stream",
          "text": [
            "4/4 [==============================] - 2s 7ms/step\n"
          ]
        }
      ],
      "source": [
        "y_all_pred = model.predict( x_all)"
      ]
    },
    {
      "cell_type": "code",
      "execution_count": 18,
      "metadata": {
        "id": "GtCLBMTQYLV4"
      },
      "outputs": [],
      "source": [
        "y_all_pred_denormalize = denormalize( y_all_pred, record_min_all, record_max_all)"
      ]
    },
    {
      "cell_type": "code",
      "execution_count": 19,
      "metadata": {
        "colab": {
          "base_uri": "https://localhost:8080/",
          "height": 430
        },
        "id": "6trOBQ7WYZWt",
        "outputId": "d07df812-123a-4af1-d706-fcc73d29f8d4"
      },
      "outputs": [
        {
          "data": {
            "image/png": "[encoded data removed]",
            "text/plain": [
              "<Figure size 640x480 with 1 Axes>"
            ]
          },
          "metadata": {},
          "output_type": "display_data"
        }
      ],
      "source": [
        "x = [ datetime.strptime( d, \"%Y-%m-%d\") for d in df[ \"date\"].values]\n",
        "\n",
        "plt.figure()\n",
        "plt.plot( x, adj_close, label=\"S&P500\")\n",
        "plt.plot( x[ 10:], y_all_pred_denormalize, label=\"LSTM without news\")\n",
        "plt.legend()\n",
        "plt.show()"
      ]
    },
    {
      "cell_type": "markdown",
      "metadata": {
        "id": "AamRx4fFl6cP"
      },
      "source": [
        "##### predict test data"
      ]
    },
    {
      "cell_type": "code",
      "execution_count": 20,
      "metadata": {
        "colab": {
          "base_uri": "https://localhost:8080/"
        },
        "id": "DqAISkOCW5f0",
        "outputId": "e0267088-37e8-46e1-ce18-4a7bc41ebc4a"
      },
      "outputs": [
        {
          "name": "stdout",
          "output_type": "stream",
          "text": [
            "1/1 [==============================] - 0s 26ms/step\n",
            "1/1 [==============================] - 0s 26ms/step\n",
            "1/1 [==============================] - 0s 26ms/step\n",
            "1/1 [==============================] - 0s 25ms/step\n",
            "1/1 [==============================] - 0s 41ms/step\n",
            "1/1 [==============================] - 0s 30ms/step\n",
            "1/1 [==============================] - 0s 27ms/step\n",
            "1/1 [==============================] - 0s 25ms/step\n",
            "1/1 [==============================] - 0s 25ms/step\n"
          ]
        }
      ],
      "source": [
        "prediction_sequence = []\n",
        "prediction_window_numbers = int( len( x_test) / PREDICTION_LENGTH)\n",
        "\n",
        "for i in range( prediction_window_numbers):\n",
        "    current_frame = x_test[ i * PREDICTION_LENGTH]\n",
        "    predicted = []\n",
        "    for j in range( PREDICTION_LENGTH):\n",
        "        t = model.predict( current_frame[ np.newaxis, :])[ 0]\n",
        "        predicted.append( t)\n",
        "        current_frame = current_frame[ 1:]\n",
        "        current_frame = np.insert( current_frame, [ SEQUENCE_LENGTH - 2], predicted[ -1], axis=0)\n",
        "    prediction_sequence.append( predicted)\n",
        "\n",
        "prediction_sequence = np.array( prediction_sequence)"
      ]
    },
    {
      "cell_type": "markdown",
      "metadata": {
        "id": "Kh3rxkHQqPbW"
      },
      "source": [
        "##### test label original (denormalized)"
      ]
    },
    {
      "cell_type": "code",
      "execution_count": 21,
      "metadata": {
        "id": "SN1sXyYzp0LW"
      },
      "outputs": [],
      "source": [
        "y_test_orig = denormalize( y_test, record_min_test, record_max_test)"
      ]
    },
    {
      "cell_type": "markdown",
      "metadata": {
        "id": "MX98E0leqdQB"
      },
      "source": [
        "##### denormalize predicted labels"
      ]
    },
    {
      "cell_type": "code",
      "execution_count": 22,
      "metadata": {
        "id": "hXOmXiO2qgGe"
      },
      "outputs": [],
      "source": [
        "y_pred_denormalized = denormalize( prediction_sequence.flatten(), record_min_test, record_max_test)"
      ]
    },
    {
      "cell_type": "markdown",
      "metadata": {
        "id": "Xa2FpLOdrHMB"
      },
      "source": [
        "##### evaluation"
      ]
    },
    {
      "cell_type": "code",
      "execution_count": 23,
      "metadata": {
        "colab": {
          "base_uri": "https://localhost:8080/"
        },
        "id": "VDEjw_47qxzN",
        "outputId": "8c7ee10c-3209-4530-d41f-40a120c275db"
      },
      "outputs": [
        {
          "name": "stdout",
          "output_type": "stream",
          "text": [
            "MSE: 523.195615522655\n",
            "Accuracy: 0.9930263834635706\n",
            "Mean Error Percent: 0.006973616536429329\n"
          ]
        }
      ],
      "source": [
        "error = []\n",
        "squared_error = []\n",
        "abs_error = []\n",
        "error_percent = []\n",
        "\n",
        "for i in range( len( y_test_orig)):\n",
        "    e = y_test_orig[ i] - y_pred_denormalized[ i]\n",
        "    error.append( e)\n",
        "    squared_error.append( e ** 2)\n",
        "    abs_error.append( np.abs( e))\n",
        "    error_percent.append( np.abs( e) / y_test_orig[ i])\n",
        "\n",
        "mean_percent_error = np.sum( error_percent) / len( error_percent)\n",
        "accuracy = 1 - mean_percent_error\n",
        "\n",
        "MSE = np.sum( squared_error) / len( squared_error)\n",
        "\n",
        "print( f\"MSE: { MSE}\")\n",
        "print( f\"Accuracy: { accuracy}\")\n",
        "print( f\"Mean Error Percent: { mean_percent_error}\")"
      ]
    }
  ],
  "metadata": {
    "colab": {
      "provenance": []
    },
    "kernelspec": {
      "display_name": "Python 3",
      "name": "python3"
    },
    "language_info": {
      "name": "python"
    }
  },
  "nbformat": 4,
  "nbformat_minor": 0
}
