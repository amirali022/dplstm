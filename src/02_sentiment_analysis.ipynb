{
  "cells": [
    {
      "cell_type": "markdown",
      "metadata": {
        "id": "WETG9LPdn0sm"
      },
      "source": [
        "##### import statements"
      ]
    },
    {
      "cell_type": "code",
      "execution_count": 5,
      "metadata": {
        "id": "jRrZlavojfyr"
      },
      "outputs": [],
      "source": [
        "import pandas as pd\n",
        "import nltk\n",
        "from nltk.sentiment.vader import SentimentIntensityAnalyzer"
      ]
    },
    {
      "cell_type": "markdown",
      "metadata": {
        "id": "n4J3tUuYqr2N"
      },
      "source": [
        "##### read input csv data"
      ]
    },
    {
      "cell_type": "code",
      "execution_count": 9,
      "metadata": {
        "id": "gT8Sb-WwqvfE"
      },
      "outputs": [],
      "source": [
        "df = pd.read_csv( \"data/input/us_financial_news_data.csv\")"
      ]
    },
    {
      "cell_type": "markdown",
      "metadata": {
        "id": "MBD967J_qzW-"
      },
      "source": [
        "##### filling missing data"
      ]
    },
    {
      "cell_type": "code",
      "execution_count": 10,
      "metadata": {
        "id": "MF0CyPXMq1m-"
      },
      "outputs": [],
      "source": [
        "df = df.fillna( \"missing\")"
      ]
    },
    {
      "cell_type": "markdown",
      "metadata": {
        "id": "o-2zhm2DqiEq"
      },
      "source": [
        "##### download vader lexicon"
      ]
    },
    {
      "cell_type": "code",
      "execution_count": 7,
      "metadata": {
        "colab": {
          "base_uri": "https://localhost:8080/"
        },
        "id": "1x4HR81iqlaE",
        "outputId": "75ecc339-2ec6-43c9-a268-d7da4cabaa12"
      },
      "outputs": [
        {
          "name": "stderr",
          "output_type": "stream",
          "text": [
            "[nltk_data] Downloading package vader_lexicon to /root/nltk_data...\n",
            "[nltk_data]   Package vader_lexicon is already up-to-date!\n"
          ]
        },
        {
          "data": {
            "text/plain": [
              "True"
            ]
          },
          "execution_count": 7,
          "metadata": {},
          "output_type": "execute_result"
        }
      ],
      "source": [
        "nltk.download( \"vader_lexicon\")"
      ]
    },
    {
      "cell_type": "markdown",
      "metadata": {
        "id": "A0EKp1CxqKhu"
      },
      "source": [
        "##### initialize sentiment intensity analyzer"
      ]
    },
    {
      "cell_type": "code",
      "execution_count": 11,
      "metadata": {
        "id": "AaU0t9X5qIgc"
      },
      "outputs": [],
      "source": [
        "sid = SentimentIntensityAnalyzer()"
      ]
    },
    {
      "cell_type": "markdown",
      "metadata": {
        "id": "lliytPOxq9GW"
      },
      "source": [
        "##### calculate polarity score"
      ]
    },
    {
      "cell_type": "code",
      "execution_count": 12,
      "metadata": {
        "id": "GaUp9uXnqpkU"
      },
      "outputs": [],
      "source": [
        "title_score = [ sid.polarity_scores( sentence) for sentence in df.title]"
      ]
    },
    {
      "cell_type": "markdown",
      "metadata": {
        "id": "nfOVEBK9rc1V"
      },
      "source": [
        "##### add scores to dataset"
      ]
    },
    {
      "cell_type": "code",
      "execution_count": 14,
      "metadata": {
        "id": "npefW-rXrjM8"
      },
      "outputs": [],
      "source": [
        "compound = []\n",
        "neg = []\n",
        "neu = []\n",
        "pos = []\n",
        "\n",
        "for score in title_score:\n",
        "    compound.append( score[ \"compound\"])\n",
        "    neg.append( score[ \"neg\"])\n",
        "    neu.append( score[ \"neu\"])\n",
        "    pos.append( score[ \"pos\"])\n",
        "\n",
        "df[ \"compound\"] = compound\n",
        "df[ \"neg\"] = neg\n",
        "df[ \"neu\"] = neu\n",
        "df[ \"pos\"] = pos"
      ]
    },
    {
      "cell_type": "markdown",
      "metadata": {
        "id": "fdD-ByLlsL1x"
      },
      "source": [
        "##### sentiment score of first 20 news title"
      ]
    },
    {
      "cell_type": "code",
      "execution_count": 22,
      "metadata": {
        "colab": {
          "base_uri": "https://localhost:8080/"
        },
        "id": "UmoRjyOvsFos",
        "outputId": "41671463-ed61-40e2-920f-21886e791da3"
      },
      "outputs": [
        {
          "name": "stdout",
          "output_type": "stream",
          "text": [
            "Title: This entrepreneur is ringing up sales restoring vintage telephones - MarketWatch\n",
            "compound: 0.296, neg: 0.0, neu: 0.804, pos: 0.196\n",
            "Title: Mexican official disputes reports of tainted alcohol at resorts\n",
            "compound: -0.2732, neg: 0.208, neu: 0.792, pos: 0.0\n",
            "Title: Saudi prince has history of extravagant impulse purchases\n",
            "compound: 0.0, neg: 0.0, neu: 1.0, pos: 0.0\n",
            "Title: Golden Globes Predictions for Netflix's The Crown, Mudbound | Fortune\n",
            "compound: 0.0, neg: 0.0, neu: 1.0, pos: 0.0\n",
            "Title: Bitcoin: Peter Thiel's Founders Fund Goes Big on Cryptocurrency | Fortune\n",
            "compound: 0.0, neg: 0.0, neu: 1.0, pos: 0.0\n",
            "Title: Fire and Fury: Kimmel, Colbert Skewer Trump Over Wolff Book | Fortune\n",
            "compound: -0.7269, neg: 0.404, neu: 0.596, pos: 0.0\n",
            "Title: Risks From The WTO’s New Power Vacuum\n",
            "compound: -0.2732, neg: 0.259, neu: 0.741, pos: 0.0\n",
            "Title: How to Streamline the 6,714 Photos Cluttering Your Phone\n",
            "compound: 0.0, neg: 0.0, neu: 1.0, pos: 0.0\n",
            "Title: Winners and Losers of the GOP Tax Bill\n",
            "compound: -0.0772, neg: 0.272, neu: 0.48, pos: 0.248\n",
            "Title: Buying a Chromebook? Here’s What You Need to Worry About\n",
            "compound: -0.4404, neg: 0.266, neu: 0.734, pos: 0.0\n",
            "Title: WSJ. Magazine’s 10 Most-Read Stories of the Year\n",
            "compound: 0.0, neg: 0.0, neu: 1.0, pos: 0.0\n",
            "Title: U.S. Stocks Slip as GOP Tax Overhaul Hits Late Obstacle\n",
            "compound: -0.3612, neg: 0.217, neu: 0.783, pos: 0.0\n",
            "Title: China’s Wild Bunch: Startup Investors Are Cashed-Up Cowboys\n",
            "compound: 0.0, neg: 0.0, neu: 1.0, pos: 0.0\n",
            "Title: Biggest inflows to U.S. large caps since April: BAML\n",
            "compound: 0.0, neg: 0.0, neu: 1.0, pos: 0.0\n",
            "Title: Dutch high-frequency trader drifts in becalmed markets\n",
            "compound: 0.0, neg: 0.0, neu: 1.0, pos: 0.0\n",
            "Title: 【社説】北朝鮮包囲網、抜け穴を全てふさげ - WSJ\n",
            "compound: 0.0, neg: 0.0, neu: 1.0, pos: 0.0\n",
            "Title: 'Biba House' in London's Notting Hill Has Pops of Color Throughout\n",
            "compound: 0.0, neg: 0.0, neu: 1.0, pos: 0.0\n",
            "Title: A Ski-In, Ski-Out Home in Aspen That Hosted John Denver\n",
            "compound: 0.0, neg: 0.0, neu: 1.0, pos: 0.0\n",
            "Title: Attunity Ltd. Announces Closing of Option Relating to Public Offering of Ordinary Shares\n",
            "compound: 0.296, neg: 0.0, neu: 0.845, pos: 0.155\n",
            "Title: A Hawaii Retreat to Hone Your Downward Dog\n",
            "compound: 0.2023, neg: 0.0, neu: 0.769, pos: 0.231\n"
          ]
        }
      ],
      "source": [
        "for i in range( 20):\n",
        "    print( f\"Title: { df.iloc[ i][ 'title']}\")\n",
        "    print( f\"compound: { df.iloc[ i][ 'compound']}, neg: { df.iloc[ i][ 'neg']}, neu: { df.iloc[ i][ 'neu']}, pos: { df.iloc[ i][ 'pos']}\")"
      ]
    },
    {
      "cell_type": "markdown",
      "metadata": {
        "id": "FlDHV1iWtS7F"
      },
      "source": [
        "##### save new dataset"
      ]
    },
    {
      "cell_type": "code",
      "execution_count": 23,
      "metadata": {
        "id": "RM8EqoA4tZBN"
      },
      "outputs": [],
      "source": [
        "df.to_csv( \"data/result/us_financial_news_data_with_sentiment.csv\")"
      ]
    }
  ],
  "metadata": {
    "colab": {
      "provenance": []
    },
    "kernelspec": {
      "display_name": "Python 3.8.6 64-bit",
      "language": "python",
      "name": "python3"
    },
    "language_info": {
      "name": "python",
      "version": "3.8.6"
    },
    "vscode": {
      "interpreter": {
        "hash": "cccb80c535c03ea85c927d83b1212f93133456f0701648b808e4e1f70d2d0413"
      }
    }
  },
  "nbformat": 4,
  "nbformat_minor": 0
}
